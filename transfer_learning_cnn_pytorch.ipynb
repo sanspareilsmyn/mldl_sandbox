{
  "nbformat": 4,
  "nbformat_minor": 0,
  "metadata": {
    "colab": {
      "name": "transfer_learning_cnn_pytorch.ipynb",
      "provenance": [],
      "collapsed_sections": [],
      "authorship_tag": "ABX9TyPUDJJvgcS+pfWdIqrHYImu",
      "include_colab_link": true
    },
    "kernelspec": {
      "name": "python3",
      "display_name": "Python 3"
    }
  },
  "cells": [
    {
      "cell_type": "markdown",
      "metadata": {
        "id": "view-in-github",
        "colab_type": "text"
      },
      "source": [
        "<a href=\"https://colab.research.google.com/github/sanspareilsmyn/mldl_sandbox/blob/main/transfer_learning_cnn_pytorch.ipynb\" target=\"_parent\"><img src=\"https://colab.research.google.com/assets/colab-badge.svg\" alt=\"Open In Colab\"/></a>"
      ]
    },
    {
      "cell_type": "code",
      "metadata": {
        "id": "DsD-7N9b58oe"
      },
      "source": [
        "# https://github.com/WillKoehrsen/pytorch_challenge/blob/master/Transfer%20Learning%20in%20PyTorch.ipynb"
      ],
      "execution_count": null,
      "outputs": []
    },
    {
      "cell_type": "code",
      "metadata": {
        "id": "6ezx71zblzpG"
      },
      "source": [
        "from IPython.core.interactiveshell import InteractiveShell\n",
        "import seaborn as nss\n",
        "# PyTorch\n",
        "from torchvision import transforms, datsets, models\n",
        "from torch import optim, cuda\n",
        "from torch.utils.data import DataLoader, sampler\n",
        "import torch.nn as nn\n",
        "\n",
        "import warnings\n",
        "warnings.filterwarnings('ignore', category=FutureWarning)\n",
        "\n",
        "# Data science tools\n",
        "import numpy as np\n",
        "import pandas as pd\n",
        "import os\n",
        "\n",
        "# Image manipulations\n",
        "from PIL import Image\n",
        "\n",
        "# Useful for examining network\n",
        "from torchsummary import summary\n",
        "\n",
        "# Timing utility\n",
        "from timeit import default_timer as timer\n",
        "\n",
        "# Visualizations\n",
        "import matplotlib.pyplot as plt\n",
        "%matplotlib inline\n",
        "plt.rcParams['font.size'] = 14\n",
        "\n",
        "# Printing out all outputs\n",
        "InteractiveShell.ast_node_interactivity = 'all'"
      ],
      "execution_count": null,
      "outputs": []
    },
    {
      "cell_type": "code",
      "metadata": {
        "id": "XH_B4qs2ouAM"
      },
      "source": [
        "datadir = '/home/wjk68/'\n",
        "traindir = datadir + 'train/'\n",
        "validdir = datadir + 'valid/'\n",
        "testdir = datadir + 'test/'\n",
        "\n",
        "save_file_name = 'vgg16-transfer-4.pt'\n",
        "checkpoint_path = 'vgg16-transfer-4.pth'\n",
        "\n",
        "batch_size = 128\n",
        "\n",
        "train_on_gpu = cuda.is_available()\n",
        "print(f'Train on gpu: {train_on_gpu}')\n",
        "\n",
        "# Number of gpus\n",
        "if train_on_gpu:\n",
        "  gpu_count = cuda.device_count()\n",
        "  print(f'{gpu_count} gpus detected.')\n",
        "  if gpu_count > 1:\n",
        "    multi_gpu = True\n",
        "  else:\n",
        "    multi_gpu = False"
      ],
      "execution_count": null,
      "outputs": []
    },
    {
      "cell_type": "markdown",
      "metadata": {
        "id": "7EhI29sBw9W6"
      },
      "source": [
        "# Data Exploration"
      ]
    },
    {
      "cell_type": "code",
      "metadata": {
        "id": "MFLaf2n6w-TR"
      },
      "source": [
        "# Empty lists\n",
        "categories = []\n",
        "img_cateogires = []\n",
        "n_train = []\n",
        "n_valid = []\n",
        "n_test = []\n",
        "hs = []\n",
        "ws = []\n",
        "\n",
        "# Iterate through each category\n",
        "for d in os.listdir(traindir):\n",
        "  categories.append(d)\n",
        "\n",
        "  # Number of each image\n",
        "  train_imgs = os.listdir(traindir + d)\n",
        "  valid_imgs = os.listdir(validdir + d)\n",
        "  test_imgs = os.listdir(testdir + d)\n",
        "  n_train.append(len(train_imgs))\n",
        "  n_valid.append(len(valid_imgs))\n",
        "  n_test.append(len(test_imgs))\n",
        "\n",
        "  # Find stats for train images\n",
        "  for i in train_imgs:\n",
        "    img_categories.append(d)\n",
        "    img = Image.open(traindir + d + '/' + i)\n",
        "    img_array = np.array(img)\n",
        "    # Shape\n",
        "    hs.append(img_array.shape[0])\n",
        "    ws.append(img_array.shape[1])\n",
        "\n",
        "# Dataframe of categories\n",
        "cat_df = pd.DataFrame({'category' : categories,\n",
        "                       'n_train' : n_train,\n",
        "                       'n_valid' : n_valid,\n",
        "                       'n_test' : n_test}).sort_values('category')\n",
        "\n",
        "image_df = pd.DataFrame({\n",
        "    'category' : img_categories,\n",
        "    'height' : hs,\n",
        "    'width' : ws\n",
        "})\n",
        "\n",
        "cat_df.sort_values('n_train', ascending=False, inplace=True)\n",
        "cat_df.head()\n",
        "cat_df.tail()"
      ],
      "execution_count": null,
      "outputs": []
    },
    {
      "cell_type": "code",
      "metadata": {
        "id": "q32WTekE5rJD"
      },
      "source": [
        "cat_df.set_index('category')['n_train'].plot.bar(\n",
        "    color='r', figsize=(20, 6))\n",
        "plt.xticks(rotation=80)\n",
        "plt.ylabel('Count')\n",
        "plt.title('Training Images by Category')"
      ],
      "execution_count": null,
      "outputs": []
    },
    {
      "cell_type": "code",
      "metadata": {
        "id": "ljk-nlGz44IB"
      },
      "source": [
        "cat_df.set_index('category').iloc[:50]['n_train'].plot.bar(\n",
        "    color='r', figsize=(20, 6))\n",
        "plt.xticks(rotation=80)\n",
        "plt.ylabel('Count')\n",
        "plt.title('Training Images by Category')"
      ],
      "execution_count": null,
      "outputs": []
    },
    {
      "cell_type": "markdown",
      "metadata": {
        "id": "a3pzt8Ow6Mvc"
      },
      "source": [
        "# Image Preprocessing"
      ]
    },
    {
      "cell_type": "code",
      "metadata": {
        "id": "bX4BIZJW52S2"
      },
      "source": [
        "# Data Augmentation"
      ],
      "execution_count": 3,
      "outputs": []
    },
    {
      "cell_type": "code",
      "metadata": {
        "id": "uqalvRo_6QTa"
      },
      "source": [
        "image_transforms = {\n",
        "    # Train uses data augmentation\n",
        "    'train':\n",
        "    transforms.Compose([\n",
        "        transforms.RandomResizedCrop(size=256, scale=(0.8, 1.0)),\n",
        "        transforms.ColorJitter(),\n",
        "        transforms.RandomHorizontalFlip(),\n",
        "        transforms.CenterCrop(size=224),\n",
        "        transforms.ToTensor(),\n",
        "        transforms.Normalize([0.485, 0.456, 0.406],\n",
        "                             [0.229, 0.224, 0.225])  # Imagenet standards     \n",
        "    ]),\n",
        "    # Validation does not use augmentation\n",
        "    'val':\n",
        "    transforms.Compose([\n",
        "        transforms.Resize(size=256),\n",
        "        transforms.CenterCrop(size=224),\n",
        "        transforms.ToTensor(),\n",
        "        transforms.Normalize([0.485, 0.456, 0.406],\n",
        "                             [0.229, 0.224, 0.225])  # Imagenet standards     \n",
        "    ]),\n",
        "    # Test does not use augmentation\n",
        "    'test':\n",
        "    transforms.Compose([\n",
        "        transforms.Resize(size=256),\n",
        "        transforms.CenterCrop(size=224),\n",
        "        transforms.ToTensor(),\n",
        "        transforms.Normalize([0.485, 0.456, 0.406], [0.229, 0.224, 0.225])\n",
        "    ]),\n",
        "}"
      ],
      "execution_count": null,
      "outputs": []
    },
    {
      "cell_type": "code",
      "metadata": {
        "id": "pMpMlMvw7RSB"
      },
      "source": [
        "# Data Iterators"
      ],
      "execution_count": 4,
      "outputs": []
    },
    {
      "cell_type": "code",
      "metadata": {
        "id": "owjnl2Rx7S0n"
      },
      "source": [
        "# Datasets from each folder\n",
        "data = {\n",
        "    'train':\n",
        "    datasets.ImageFolder(root=traindir, transform=image_transforms['train']),\n",
        "    'val':\n",
        "    datasets.ImageFolder(root=validdir, transform=image_transforms['val']),\n",
        "    'test':\n",
        "    datasets.ImageFolder(root=testdir, transform=image_transform['test'])\n",
        "}\n",
        "\n",
        "# Dataloader iterators\n",
        "dataloaders = {\n",
        "    'train':\n",
        "    DataLoader(data['train'], batch_size=batch_size, shuffle=True),\n",
        "    'val':\n",
        "    DataLoader(data['val'], batch_size=batch_size, shuffle=True),\n",
        "    'test':\n",
        "    DataLoader(data['test'], batch_size=batch_size, shuffle=True)\n",
        "}"
      ],
      "execution_count": null,
      "outputs": []
    },
    {
      "cell_type": "code",
      "metadata": {
        "id": "NoSCsKyT789X"
      },
      "source": [
        "trainiter = iter(dataloaders['train'])\n",
        "features, labels = next(trainiter)\n",
        "features.shape, labels.shape"
      ],
      "execution_count": null,
      "outputs": []
    },
    {
      "cell_type": "code",
      "metadata": {
        "id": "_y6DwKO78DFA"
      },
      "source": [
        "n_classes = len(cat_df)\n",
        "print(f'There are {n_classes} different classes.')\n",
        "\n",
        "len(data['train'].classes)"
      ],
      "execution_count": null,
      "outputs": []
    },
    {
      "cell_type": "markdown",
      "metadata": {
        "id": "Z9dEoALh8Y7c"
      },
      "source": [
        "# Pre-trained Models for Image Classification"
      ]
    },
    {
      "cell_type": "code",
      "metadata": {
        "id": "Xyj9ipJH8HLk"
      },
      "source": [
        "model = models.vgg16(pretrained=True)\n",
        "model"
      ],
      "execution_count": null,
      "outputs": []
    },
    {
      "cell_type": "code",
      "metadata": {
        "id": "4bEWlLG783VJ"
      },
      "source": [
        "# Freeze Early layers\n",
        "for param in model.parameters():\n",
        "  parm.requires_grad = False"
      ],
      "execution_count": null,
      "outputs": []
    },
    {
      "cell_type": "code",
      "metadata": {
        "id": "xEDo8GRk9BHk"
      },
      "source": [
        "n_inputs = model.classifier[6].in_features\n",
        "\n",
        "# Add on classifier\n",
        "model.classifier[6] = nn.Sequential(\n",
        "    nn.Linear(n_inputs, 256), nn.ReLU(), nn.Dropout(0.4),\n",
        "    nn.Linear(256, n_classes), nn.LogSoftmax(dim=1))\n",
        "\n",
        "model.classifier"
      ],
      "execution_count": null,
      "outputs": []
    },
    {
      "cell_type": "code",
      "metadata": {
        "id": "uEVSvtke9euV"
      },
      "source": [
        "total_params = sum(p.numel() for p in model.parameters())\n",
        "print(f'{total_params:,} total parameters.')\n",
        "total_trainable_params = sum(\n",
        "    p.numel() for p in model.parameters() if p.requires_grad)\n",
        "print(f'{total_trainable_params:,} training parameters.')"
      ],
      "execution_count": null,
      "outputs": []
    },
    {
      "cell_type": "code",
      "metadata": {
        "id": "NrwM53eV-qyx"
      },
      "source": [
        "if train_on_gpu:\n",
        "    model = model.to('cuda')\n",
        "\n",
        "if multi_gpu:\n",
        "    model = nn.DataParallel(model)"
      ],
      "execution_count": null,
      "outputs": []
    },
    {
      "cell_type": "markdown",
      "metadata": {
        "id": "3XOEh4Ig-yEL"
      },
      "source": [
        "# Function to Load in Pretrained Model"
      ]
    },
    {
      "cell_type": "code",
      "metadata": {
        "id": "zXwcezJj-u94"
      },
      "source": [
        "def get_pretrained_model(model_name):\n",
        "  '''\n",
        "  Retrieve a pre-trained model from torchvision\n",
        "\n",
        "  Params\n",
        "  -------\n",
        "  Model_name(str): name of the model(currently only accpets vgg16 and resnet50)\n",
        "\n",
        "  Return\n",
        "  ------\n",
        "  model (PyTorch Model) : cnn\n",
        "  '''\n",
        "\n",
        "  if model_name == 'vgg16':\n",
        "    model = models.vgg16(pretrained=True)\n",
        "\n",
        "    # Freeze early layers\n",
        "    for param in model.parameters():\n",
        "      param.requires_grad = False\n",
        "    n_inputs = model.classifier[6].in_features\n",
        "\n",
        "    # Add on classifier\n",
        "    model.classifier[6] = nn.Sequential(\n",
        "        nn.Linear(n_inputs, 256), nn.ReLU(), nn.Dropout(0.2),\n",
        "        nn.Linear(256, n_classes), nn.LogSoftMax(dim=1)\n",
        "    )\n",
        "\n",
        "  elif model_name == 'resnet50':\n",
        "    model = models.resnet50(pretrained=True)\n",
        "\n",
        "    # Freeze early layers\n",
        "    for param in model.parameters():\n",
        "      param.requires_grad = False\n",
        "\n",
        "    # Add on classifier\n",
        "    model.fc = nn.Sequential(\n",
        "        nn.Linear(n_inputs, 256), nn.ReLU(), nn.Dropout(0.2),\n",
        "        nn.Linear(256, n_classes), nn.LogSoftmax(dim=1)\n",
        "    )\n",
        "\n",
        "  if train_on_gpu:\n",
        "    model = model.to('cuda')\n",
        "  \n",
        "  if multi_gpu:\n",
        "    model = nn.DataParallel(model)\n",
        "\n",
        "  return model"
      ],
      "execution_count": null,
      "outputs": []
    },
    {
      "cell_type": "code",
      "metadata": {
        "id": "1fiWVAFJ_wQE"
      },
      "source": [
        "model = get_pretrained_model('vgg16')\n",
        "if multi_gpu:\n",
        "  summary(\n",
        "      model.module,\n",
        "      input_size=(3, 224, 224),\n",
        "      batch_size=batch_size,\n",
        "      device='cuda'\n",
        "  )\n",
        "else:\n",
        "  summary(\n",
        "      model,\n",
        "      input_size=(3, 224, 224),\n",
        "      batch_size=batch_size,\n",
        "      device='cuda'\n",
        "  )"
      ],
      "execution_count": null,
      "outputs": []
    },
    {
      "cell_type": "code",
      "metadata": {
        "id": "f_nq-M9vADzn"
      },
      "source": [
        "# Mapping of Classes to Indexes\n",
        "model.class_to_idx = data['train'].class_to_idx\n",
        "model.idx_to_class = {\n",
        "    idx: class_ for class_, idx in model.class_to_idx.items()\n",
        "}\n",
        "list(model.idx_to_class.items())[:10]"
      ],
      "execution_count": null,
      "outputs": []
    },
    {
      "cell_type": "markdown",
      "metadata": {
        "id": "Wgw-dK6yAjJZ"
      },
      "source": [
        "# Training Loss and Optimizer"
      ]
    },
    {
      "cell_type": "code",
      "metadata": {
        "id": "1mwVMxzkATtm"
      },
      "source": [
        "criterion = nn.NLLLoss()\n",
        "optimizer = optim.Adam(model.parameters())"
      ],
      "execution_count": null,
      "outputs": []
    },
    {
      "cell_type": "code",
      "metadata": {
        "id": "tT-zZeR5Apwo"
      },
      "source": [
        "for p in optimizer.param_groups[0]['params']:\n",
        "  if p.requires_grad:\n",
        "    print(p.shape)"
      ],
      "execution_count": null,
      "outputs": []
    },
    {
      "cell_type": "code",
      "metadata": {
        "id": "Ycuhxa6oAu3B"
      },
      "source": [
        "def train(model, criterion, optimizer, train_loader, valid_loader, save_file_name, max_epochs_stop=3, n_epochs=20, print_every=2):\n",
        "  '''\n",
        "  Train a PyTorch Model\n",
        "\n",
        "  Params\n",
        "  -------\n",
        "  model (PyTorch model) : cnn to train\n",
        "  criterion (PyTorch loss) : objective to minimize\n",
        "  optimizer (PyTorch optimizer) : optimizer to compute gradients of model parameters\n",
        "  train_loader (PyTorch dataloader) : training dataloader to iterate through\n",
        "  valid_loader (PyTorch dataloader) : validation dataloader used for early stopping\n",
        "  save_file_name (str ending in '.pt') : file path to save the model state dict\n",
        "  max_epochs_stop (int) : maximum number of epochs with no improvement in validation loss for early stopping\n",
        "  print_every (int) : frequency of epochs to print training stats\n",
        "\n",
        "  Returns\n",
        "  -------\n",
        "  model (PyTorch model) : trained cnn with best weights\n",
        "  history (DataFrame) : history of train and validation loss and accuracy\n",
        "  '''\n",
        "\n",
        "  # Early stopping initialization\n",
        "  epochs_no_improve = 0\n",
        "  valid_loss_min = np.Inf\n",
        "\n",
        "  valid_max_acc = 0\n",
        "  history = []\n",
        "\n",
        "  # Number of epocs already trained (if using loaded in model weights)\n",
        "  try:\n",
        "    print(f'Model has been trained for: {model.epochs} epochs.\\n')\n",
        "  except:\n",
        "    model.epochs = 0\n",
        "    print(f'Starting Training from Scratch.\\n')\n",
        "  overall_start = timer()\n",
        "\n",
        "  # Main Loop\n",
        "  for epoch in range(n_epochs):\n",
        "    # Keep track of training and validation loss each epoch\n",
        "    train_loss = 0.0\n",
        "    valid_loss = 0.0\n",
        "    \n",
        "    train_acc = 0\n",
        "    valid_acc = 0\n",
        "\n",
        "    # Training Loop\n",
        "    for ii, (data, target) in enumerate(train_loader):\n",
        "      # Tensors to gpu\n",
        "      if train_on_gpu:\n",
        "        data, target = data.cuda(), target.cuda()\n",
        "      \n",
        "      # Clear gradients\n",
        "      optimizer.zero_grad()\n",
        "      output = model(data)\n",
        "\n",
        "      # Loss and Backpropagation of gradients\n",
        "      loss = criterion(output, target)\n",
        "      loss.backward()\n",
        "\n",
        "      # Update the parameters\n",
        "      optimizer.step()\n",
        "\n",
        "      # Track train loss by multipying average loss by number of examples in batch\n",
        "      train_loss += loss.item() * data.size(0)\n",
        "\n",
        "      # Calculate accracy by finding max log probability\n",
        "      _, pred = torch.max(output, dim=1)\n",
        "      correct_tensor = pred.eq(target.data.view_as(pred))\n",
        "\n",
        "      # Need to convert correct tensor from int to float to average\n",
        "      accuracy = torch.mean(correct_tensor.type(torch.FloatTensor))\n",
        "\n",
        "      # Multipy average accuracy times the number of examples in batch\n",
        "      train_acc += accuracy.item() * data.size(0)\n",
        "\n",
        "      # Track training progress\n",
        "      print(f'Epoch: {epoch}\\t{100 * (ii + 1) / len(train_loader):.2f}% complete. {timer() - start:.2f} seconds elapsed in epoch.', end='\\r')\n",
        "    \n",
        "    # After training loops ends, start validation\n",
        "    else:\n",
        "      model.epochs += 1\n",
        "        # Don't need to keep track of gradients\n",
        "        with torch.no_grad():\n",
        "          # Set to evaluation mode\n",
        "          model.eval()\n",
        "\n",
        "          # Validation loop\n",
        "          for data, target in valid_loader:\n",
        "            if train_on_gpu:\n",
        "              data, target = data.cuda(), target.cuda()\n",
        "            \n",
        "            # Forward pass\n",
        "            output = model(data)\n",
        "\n",
        "            # Validation loss\n",
        "            loss = criterion(output, target)\n",
        "            \n"
      ],
      "execution_count": null,
      "outputs": []
    }
  ]
}