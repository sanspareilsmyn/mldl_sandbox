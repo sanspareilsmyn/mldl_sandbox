{
  "nbformat": 4,
  "nbformat_minor": 0,
  "metadata": {
    "colab": {
      "name": "transfer_learning_cnn_pytorch.ipynb",
      "provenance": [],
      "collapsed_sections": [],
      "authorship_tag": "ABX9TyMdla/F9Crf2i34rYNV2KBo",
      "include_colab_link": true
    },
    "kernelspec": {
      "name": "python3",
      "display_name": "Python 3"
    }
  },
  "cells": [
    {
      "cell_type": "markdown",
      "metadata": {
        "id": "view-in-github",
        "colab_type": "text"
      },
      "source": [
        "<a href=\"https://colab.research.google.com/github/sanspareilsmyn/mldl_sandbox/blob/main/transfer_learning_cnn_pytorch.ipynb\" target=\"_parent\"><img src=\"https://colab.research.google.com/assets/colab-badge.svg\" alt=\"Open In Colab\"/></a>"
      ]
    },
    {
      "cell_type": "code",
      "metadata": {
        "id": "6ezx71zblzpG"
      },
      "source": [
        "from IPython.core.interactiveshell import InteractiveShell\n",
        "import seaborn as nss\n",
        "# PyTorch\n",
        "from torchvision import transforms, datsets, models\n",
        "from torch import optim, cuda\n",
        "from torch.utils.data import DataLoader, sampler\n",
        "import torch.nn as nn\n",
        "\n",
        "import warnings\n",
        "warnings.filterwarnings('ignore', category=FutureWarning)\n",
        "\n",
        "# Data science tools\n",
        "import numpy as np\n",
        "import pandas as pd\n",
        "import os\n",
        "\n",
        "# Image manipulations\n",
        "from PIL import Image\n",
        "\n",
        "# Useful for examining network\n",
        "from torchsummary import summary\n",
        "\n",
        "# Timing utility\n",
        "from timeit import default_timer as timer\n",
        "\n",
        "# Visualizations\n",
        "import matplotlib.pyplot as plt\n",
        "%matplotlib inline\n",
        "plt.rcParams['font.size'] = 14\n",
        "\n",
        "# Printing out all outputs\n",
        "InteractiveShell.ast_node_interactivity = 'all'"
      ],
      "execution_count": null,
      "outputs": []
    },
    {
      "cell_type": "code",
      "metadata": {
        "id": "XH_B4qs2ouAM"
      },
      "source": [
        "datadir = '/home/wjk68/'\n",
        "traindir = datadir + 'train/'\n",
        "validdir = datadir + 'valid/'\n",
        "testdir = datadir + 'test/'\n",
        "\n",
        "save_file_name = 'vgg16-transfer-4.pt'\n",
        "checkpoint_path = 'vgg16-transfer-4.pth'\n",
        "\n",
        "batch_size = 128\n",
        "\n",
        "train_on_gpu = cuda.is_available()\n",
        "print(f'Train on gpu: {train_on_gpu}')\n",
        "\n",
        "# Number of gpus\n",
        "if train_on_gpu:\n",
        "  gpu_count = cuda.device_count()\n",
        "  print(f'{gpu_count} gpus detected.')\n",
        "  if gpu_count > 1:\n",
        "    multi_gpu = True\n",
        "  else:\n",
        "    multi_gpu = False"
      ],
      "execution_count": null,
      "outputs": []
    },
    {
      "cell_type": "markdown",
      "metadata": {
        "id": "7EhI29sBw9W6"
      },
      "source": [
        "# Data Exploration"
      ]
    },
    {
      "cell_type": "code",
      "metadata": {
        "id": "MFLaf2n6w-TR"
      },
      "source": [
        "# Empty lists\n",
        "categories = []\n",
        "img_cateogires = []\n",
        "n_train = []\n",
        "n_valid = []\n",
        "n_test = []\n",
        "hs = []\n",
        "ws = []\n",
        "\n",
        "# Iterate through each category\n",
        "for d in os.listdir(traindir):\n",
        "  cateogires.append(d)"
      ],
      "execution_count": null,
      "outputs": []
    }
  ]
}